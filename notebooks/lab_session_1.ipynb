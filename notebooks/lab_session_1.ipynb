{
  "cells": [
    {
      "cell_type": "markdown",
      "id": "6e27a4b6-cfab-477e-8583-99e81b5e0204",
      "metadata": {
        "id": "6e27a4b6-cfab-477e-8583-99e81b5e0204"
      },
      "source": [
        "**Name** : Mehmet Ehliz"
      ]
    },
    {
      "cell_type": "markdown",
      "id": "1579b88a-c255-42e7-b51e-7c991787eb82",
      "metadata": {
        "id": "1579b88a-c255-42e7-b51e-7c991787eb82"
      },
      "source": [
        "E-mail :"
      ]
    },
    {
      "cell_type": "markdown",
      "id": "72ca5213-7c50-42fd-b9cd-5dd23a98aa86",
      "metadata": {
        "id": "72ca5213-7c50-42fd-b9cd-5dd23a98aa86"
      },
      "source": [
        "### Module Import"
      ]
    },
    {
      "cell_type": "code",
      "execution_count": 1,
      "id": "896d16a8-ba67-4727-8791-d7fba144cc46",
      "metadata": {
        "id": "896d16a8-ba67-4727-8791-d7fba144cc46"
      },
      "outputs": [],
      "source": [
        "import pandas as pd\n",
        "import numpy as np\n",
        "import matplotlib.pyplot as plt\n",
        "from sklearn.model_selection import train_test_split\n",
        "from keras.layers import Dense, Input, Dropout, BatchNormalization\n",
        "from keras.models import Sequential\n",
        "from keras import optimizers, regularizers\n",
        "from sklearn.metrics import r2_score\n",
        "import matplotlib.pyplot as plt\n",
        "from sklearn.preprocessing import StandardScaler"
      ]
    },
    {
      "cell_type": "markdown",
      "id": "d52136b8-3892-43f2-afca-e477824e2e8b",
      "metadata": {
        "id": "d52136b8-3892-43f2-afca-e477824e2e8b"
      },
      "source": [
        "# Useful Jupyter Notebook Shortcuts\n",
        "\n",
        "Here are some helpful keyboard shortcuts for Jupyter Notebook:\n",
        "\n",
        "- **M**: Switch to Markdown mode\n",
        "- **Y**: Switch to Code mode\n",
        "- **A**: Insert cell above\n",
        "- **B**: Insert cell below\n",
        "- **D, D**: (Press D twice) Delete selected cell\n",
        "- **Shift + Enter**: Run the current cell and move to the next\n",
        "- **Ctrl + Enter**: Run the current cell and stay on it\n",
        "- **Shift + Tab**: Show function/method documentation\n",
        "- **Ctrl + Shift + -**: Split cell at cursor\n",
        "- **Esc**: Enter command mode (blue border)\n",
        "- **Enter**: Enter edit mode (green border)\n"
      ]
    },
    {
      "cell_type": "markdown",
      "id": "ac0db641-a480-4652-a18f-e70fcb5d1138",
      "metadata": {
        "id": "ac0db641-a480-4652-a18f-e70fcb5d1138"
      },
      "source": [
        "## Make a table in markdown :\n",
        "\n",
        "```\n",
        "| Architecture | Scaled | Epochs | mse  | val_mse | $R^2$ |\n",
        "|--------------|--------|--------|------|---------|-------|\n",
        "|              |        |        |      |         |       |\n",
        "|              |        |        |      |         |       |\n",
        "|              |        |        |      |         |       |\n",
        "|              |        |        |      |         |       |\n",
        "|              |        |        |      |         |       |\n",
        "```\n",
        "\n",
        "Note: The number of spaces used in this markdown table is just for visual formatting and is not mandatory. The table will render correctly even with minimal spacing."
      ]
    },
    {
      "cell_type": "markdown",
      "id": "7cf1ae8e-73e0-4cc5-aa45-25a66b38ca46",
      "metadata": {
        "id": "7cf1ae8e-73e0-4cc5-aa45-25a66b38ca46"
      },
      "source": [
        "will generate :\n",
        "| Architecture | Scaled | Epochs | mse  | val_mse | $R^2$ |\n",
        "|--------------|--------|--------|------|---------|-------|\n",
        "|              |        |        |      |         |       |\n",
        "|              |        |        |      |         |       |\n",
        "|              |        |        |      |         |       |\n",
        "|              |        |        |      |         |       |\n",
        "|              |        |        |      |         |       |"
      ]
    },
    {
      "cell_type": "markdown",
      "id": "3eb05154-d428-465e-ab88-7a36bda81dcf",
      "metadata": {
        "id": "3eb05154-d428-465e-ab88-7a36bda81dcf"
      },
      "source": [
        "### Local Functions"
      ]
    },
    {
      "cell_type": "code",
      "execution_count": 2,
      "id": "b8b725ba-9968-45cd-8444-8e21cc5e2aa4",
      "metadata": {
        "id": "b8b725ba-9968-45cd-8444-8e21cc5e2aa4"
      },
      "outputs": [],
      "source": [
        "def read_fixed_width_file(file_path: str, skip_lines: int = 0) -> tuple[pd.DataFrame, dict[str, str]]:\n",
        "    \"\"\"\n",
        "    Read a fixed-width file into a pandas DataFrame and return associated units.\n",
        "\n",
        "    This function reads a specific fixed-width file format containing information about\n",
        "    red giant stars. It creates a pandas DataFrame from the file contents and provides\n",
        "    a dictionary of units for each column.\n",
        "\n",
        "    :param file_path: Path to the fixed-width file.\n",
        "    :type file_path: str\n",
        "    :param skip_lines: Number of lines to skip at the beginning of the file, defaults to 0.\n",
        "    :type skip_lines: int, optional\n",
        "\n",
        "    :return: A tuple containing the pandas DataFrame and a dictionary of units.\n",
        "    :rtype: Tuple[pd.DataFrame, Dict[str, str]]\n",
        "\n",
        "    :raises FileNotFoundError: If the specified file_path does not exist.\n",
        "    :raises pd.errors.EmptyDataError: If the file is empty.\n",
        "\n",
        "    .. note::\n",
        "        The file is expected to have the following columns:\n",
        "        Type, 2MASS, Teff, log(g), [Fe/H], [a/Fe], lnM, lnAge, chi2, GALR,\n",
        "        e_Teff, e_log(g), e_[Fe/H], e_[a/Fe], e_logM, e_logAge\n",
        "\n",
        "    .. warning::\n",
        "        This function is designed for a specific file format. Using it with different\n",
        "        file formats may lead to unexpected results.\n",
        "\n",
        "    Example:\n",
        "        >>> file_path = 'path/to/your/apj523069t1_mrt.txt'\n",
        "        >>> df, units = read_fixed_width_file(file_path, skip_lines=5)\n",
        "        >>> print(df.head())\n",
        "        >>> print(units)\n",
        "    \"\"\"\n",
        "    # Define the column specifications\n",
        "    col_specs = [\n",
        "        (0, 7), (9, 15), (17, 20), (22, 25), (27, 32), (34, 38),\n",
        "        (40, 43), (45, 48), (50, 54),\n",
        "    ]\n",
        "\n",
        "    # Define the column names\n",
        "    col_names = [\n",
        "        'RAdeg', 'Dedeg', 'Teff', 'log(g)', '[Fe/H]', '[a/Fe]',\n",
        "        'mass_in', 'mass', 'age'\n",
        "    ]\n",
        "\n",
        "    # Define the units for each column\n",
        "    units = {\n",
        "        'Teff': 'K',\n",
        "        'log(g)': '[cm/s2]',\n",
        "        '[Fe/H]': '[Sun]',\n",
        "        '[a/Fe]': '[Sun]',\n",
        "        'mass_in': '[sol. Mass]',\n",
        "        'mass': '[sol. Mass]',\n",
        "        'age': '[Gyr]',\n",
        "    }\n",
        "\n",
        "    # Read the file using read_fwf function\n",
        "    df = pd.read_fwf(file_path,\n",
        "                     colspecs=col_specs,\n",
        "                     names=col_names,\n",
        "                     encoding='utf-8',\n",
        "                     skiprows=skip_lines)\n",
        "\n",
        "    return df, units\n"
      ]
    },
    {
      "cell_type": "code",
      "execution_count": 3,
      "id": "4814a990-211c-428c-b080-ba7fad72ef86",
      "metadata": {
        "id": "4814a990-211c-428c-b080-ba7fad72ef86"
      },
      "outputs": [],
      "source": [
        "def scaled_train_test_split(df_train: pd.DataFrame, df_test: pd.DataFrame) -> tuple[pd.DataFrame, pd.DataFrame]:\n",
        "    \"\"\"\n",
        "    Scale the training and test DataFrames using StandardScaler.\n",
        "\n",
        "    This function applies StandardScaler to the input DataFrames, fitting the scaler\n",
        "    on the training data and then transforming both training and test data.\n",
        "\n",
        "    Parameters\n",
        "    ----------\n",
        "    df_train : pd.DataFrame\n",
        "        The training DataFrame to be scaled.\n",
        "    df_test : pd.DataFrame\n",
        "        The test DataFrame to be scaled.\n",
        "\n",
        "    Returns\n",
        "    -------\n",
        "    tuple[pd.DataFrame, pd.DataFrame]\n",
        "        A tuple containing the scaled training DataFrame and the scaled test DataFrame.\n",
        "\n",
        "    Raises\n",
        "    ------\n",
        "    ValueError\n",
        "        If df_train and df_test do not have the same columns.\n",
        "    AssertionError\n",
        "        If either df_train or df_test is empty.\n",
        "\n",
        "    Examples\n",
        "    --------\n",
        "    >>> train_df = pd.DataFrame({'A': [1, 2, 3], 'B': [4, 5, 6]})\n",
        "    >>> test_df = pd.DataFrame({'A': [7, 8], 'B': [9, 10]})\n",
        "    >>> scaled_train, scaled_test = scaled_train_test(train_df, test_df)\n",
        "    \"\"\"\n",
        "    assert not df_train.empty, \"Training DataFrame is empty\"\n",
        "    assert not df_test.empty, \"Test DataFrame is empty\"\n",
        "\n",
        "    if not df_train.columns.equals(df_test.columns):\n",
        "        raise ValueError(\"Training and test DataFrames must have the same columns\")\n",
        "\n",
        "    scaler = StandardScaler()\n",
        "    scaled_df_train = pd.DataFrame(scaler.fit_transform(df_train), columns=df_train.columns)\n",
        "    scaled_df_test = pd.DataFrame(scaler.transform(df_test), columns=df_test.columns)\n",
        "\n",
        "    return scaled_df_train, scaled_df_test"
      ]
    },
    {
      "cell_type": "markdown",
      "id": "16bd0d8f-8d19-405a-ae88-f0f7c58a1468",
      "metadata": {
        "id": "16bd0d8f-8d19-405a-ae88-f0f7c58a1468"
      },
      "source": [
        "### global variables"
      ]
    },
    {
      "cell_type": "code",
      "execution_count": 4,
      "id": "f66b874f-1aa9-48cb-80f3-0935c52184db",
      "metadata": {
        "id": "f66b874f-1aa9-48cb-80f3-0935c52184db"
      },
      "outputs": [],
      "source": [
        "DATASET_URL = \"https://content.cld.iop.org/journals/0067-0049/249/1/7/revision1/apjsab8bcdt8_mrt.txt\"\n",
        "RANDOM_SEED = 42"
      ]
    },
    {
      "cell_type": "markdown",
      "id": "23073f5f-915d-4c4d-b5b8-7d2568f485ff",
      "metadata": {
        "id": "23073f5f-915d-4c4d-b5b8-7d2568f485ff"
      },
      "source": [
        "# Dataset Preparation"
      ]
    },
    {
      "cell_type": "markdown",
      "id": "765189ef-4c33-4f93-a8bb-7cd953ee1da4",
      "metadata": {
        "id": "765189ef-4c33-4f93-a8bb-7cd953ee1da4"
      },
      "source": [
        "## downloading data"
      ]
    },
    {
      "cell_type": "code",
      "execution_count": 7,
      "id": "08f56b85-3697-4801-8009-89c8a6f2c99b",
      "metadata": {
        "colab": {
          "base_uri": "https://localhost:8080/"
        },
        "id": "08f56b85-3697-4801-8009-89c8a6f2c99b",
        "outputId": "93060773-b1f7-41d3-aaa9-1a180297b0a4"
      },
      "outputs": [
        {
          "output_type": "stream",
          "name": "stdout",
          "text": [
            "     RAdeg  Dedeg  Teff  log(g)  [Fe/H]  [a/Fe]  mass_in  mass  age\n",
            "0  323.912  7.497   408     1.3   -0.00     0.0      1.5   1.5  2.9\n",
            "1  323.949  0.553   468     2.8    0.07     0.1      1.0   1.0  9.0\n",
            "2  324.011  5.520   449     1.7   -0.43     0.0      1.2   1.4  1.9\n",
            "3  324.012  0.840   468     2.5    0.04     0.0      2.1   1.4  4.8\n",
            "4  324.023  3.767   462     2.6    0.23     0.0      1.3   1.4  4.1\n",
            "{'Teff': 'K', 'log(g)': '[cm/s2]', '[Fe/H]': '[Sun]', '[a/Fe]': '[Sun]', 'mass_in': '[sol. Mass]', 'mass': '[sol. Mass]', 'age': '[Gyr]'}\n"
          ]
        }
      ],
      "source": [
        "df_planets, units = read_fixed_width_file(DATASET_URL,20)\n",
        "# Display the first few rows of the DataFrame to verify the data\n",
        "print(df_planets.head())\n",
        "# Display basic information about the DataFrame\n",
        "print(units)"
      ]
    },
    {
      "cell_type": "markdown",
      "id": "6a683520-505e-44bf-89c3-03fd84d6666c",
      "metadata": {
        "id": "6a683520-505e-44bf-89c3-03fd84d6666c"
      },
      "source": [
        "## Data Analysis"
      ]
    },
    {
      "cell_type": "code",
      "execution_count": 38,
      "id": "4a58dde3-1f94-467d-9eeb-d22db03668ae",
      "metadata": {
        "colab": {
          "base_uri": "https://localhost:8080/"
        },
        "id": "4a58dde3-1f94-467d-9eeb-d22db03668ae",
        "outputId": "6a900ca4-58fa-4c9d-b671-9e5fd1619396"
      },
      "outputs": [
        {
          "output_type": "stream",
          "name": "stdout",
          "text": [
            "Shape of the dataset is (73180, 9)\n",
            "\n",
            "Number of columns is 9\n",
            "\n",
            "Number of features is 8\n",
            "\n",
            "There is no missing value\n",
            "\n",
            "Range of RAdeg is 359.987\n",
            "Range of Dedeg is 19.998\n",
            "Range of Teff is 106\n",
            "Range of log(g) is 1.9000000000000001\n",
            "Range of [Fe/H] is 1.14\n",
            "Range of [a/Fe] is 0.3\n",
            "Range of mass_in is 6.3\n",
            "Range of mass is 1.3\n",
            "Range of age is 90.0\n",
            "\n"
          ]
        }
      ],
      "source": [
        "print(\"Shape of the dataset is\", df_planets.shape)\n",
        "# There are nine columns so the resuls are making sense.\n",
        "\n",
        "print(\"\")\n",
        "\n",
        "#The numbe of column can be also found directly with index number\n",
        "print(\"Number of columns is\", len(df_planets.columns))\n",
        "print(\"\")\n",
        "\n",
        "# The last column is not a feature, it is target value\n",
        "print(\"Number of features is\", len(df_planets.columns)-1)\n",
        "print(\"\")\n",
        "\n",
        "# Each star must have all 8 features if the one hasn't then we can conclude that\n",
        "# there is a missing value.\n",
        "\n",
        "if (df_planets.isnull().sum().sum() == 0):\n",
        "    print(\"There is no missing value\")\n",
        "else:\n",
        "    print(\"There is missing value\")\n",
        "\n",
        "print(\"\")\n",
        "\n",
        "# Range of each feature is the difference of max value and min value.\n",
        "for i in df_planets.columns:\n",
        "    print(\"Range of\", i, \"is\", df_planets[i].max()-df_planets[i].min())\n",
        "\n",
        "    # Age is not feature.\n",
        "    #if (i == \"mass\") :\n",
        "        #break\n",
        "\n",
        "print(\"\")\n"
      ]
    },
    {
      "cell_type": "code",
      "execution_count": 37,
      "id": "a1b22bf8-92db-47d6-a4a7-a3f932c30a3a",
      "metadata": {
        "colab": {
          "base_uri": "https://localhost:8080/",
          "height": 507
        },
        "id": "a1b22bf8-92db-47d6-a4a7-a3f932c30a3a",
        "outputId": "050d4560-cb65-450d-a36b-d4cd8c451d56"
      },
      "outputs": [
        {
          "output_type": "display_data",
          "data": {
            "text/plain": [
              "<Figure size 1200x500 with 2 Axes>"
            ],
            "image/png": "[encoded data removed]"
          },
          "metadata": {}
        }
      ],
      "source": [
        "# Plot the histogram of mass and age of the stars.\n",
        "\n",
        "\n",
        "plt.figure(figsize=(12, 5))\n",
        "\n",
        "#  for mass\n",
        "plt.subplot(1, 2, 1)\n",
        "plt.hist(df_planets[\"mass\"], bins=20, alpha=0.7)\n",
        "plt.title(\"Histogram of Mass\")\n",
        "plt.xlabel(\"Mass\")\n",
        "plt.ylabel(\"Frequency\")\n",
        "\n",
        "# for age\n",
        "plt.subplot(1, 2, 2)\n",
        "plt.hist(df_planets[\"age\"], bins=20, alpha=0.7)\n",
        "plt.title(\"Histogram of Age\")\n",
        "plt.xlabel(\"Age\")\n",
        "plt.ylabel(\"Frequency\")\n",
        "\n",
        "\n",
        "plt.tight_layout()  # Adjust layout to prevent overlap\n",
        "plt.show()\n",
        "\n",
        "# Mass distribution has a Gaussian distribution but age distribution hasn't.\n",
        "\n",
        "\n"
      ]
    },
    {
      "cell_type": "code",
      "source": [],
      "metadata": {
        "id": "xebSaj4trfbZ",
        "outputId": "56647655-f199-4858-f2df-e872053792ee",
        "colab": {
          "base_uri": "https://localhost:8080/",
          "height": 489
        }
      },
      "id": "xebSaj4trfbZ",
      "execution_count": 33,
      "outputs": [
        {
          "output_type": "execute_result",
          "data": {
            "text/plain": [
              "Text(0.5, 0, 'Age')"
            ]
          },
          "metadata": {},
          "execution_count": 33
        },
        {
          "output_type": "display_data",
          "data": {
            "text/plain": [
              "<Figure size 640x480 with 2 Axes>"
            ],
            "image/png": "[encoded data removed]"
          },
          "metadata": {}
        }
      ]
    },
    {
      "cell_type": "code",
      "source": [],
      "metadata": {
        "id": "OL9Ldn1GqlrR"
      },
      "id": "OL9Ldn1GqlrR",
      "execution_count": null,
      "outputs": []
    },
    {
      "cell_type": "code",
      "source": [],
      "metadata": {
        "id": "BiTMVmrnqlnw"
      },
      "id": "BiTMVmrnqlnw",
      "execution_count": null,
      "outputs": []
    },
    {
      "cell_type": "markdown",
      "id": "23edfc32-3875-4cb4-b1c0-340dd0f9bae8",
      "metadata": {
        "id": "23edfc32-3875-4cb4-b1c0-340dd0f9bae8"
      },
      "source": [
        "## Data splitting"
      ]
    },
    {
      "cell_type": "code",
      "execution_count": 4,
      "id": "9d1d29d2-f2fc-492f-b187-eaeb2d44e8c9",
      "metadata": {
        "id": "9d1d29d2-f2fc-492f-b187-eaeb2d44e8c9"
      },
      "outputs": [],
      "source": []
    },
    {
      "cell_type": "code",
      "execution_count": 4,
      "id": "5e14cc5a-04fe-4c1b-ac4b-b44a1674039e",
      "metadata": {
        "id": "5e14cc5a-04fe-4c1b-ac4b-b44a1674039e"
      },
      "outputs": [],
      "source": []
    },
    {
      "cell_type": "markdown",
      "id": "3764eabf-7a9d-4ade-90e2-54023ed1a96f",
      "metadata": {
        "id": "3764eabf-7a9d-4ade-90e2-54023ed1a96f"
      },
      "source": [
        "# Simple Perceptron"
      ]
    },
    {
      "cell_type": "code",
      "execution_count": null,
      "id": "02077528-c15c-4bfb-9958-de3617661a7b",
      "metadata": {
        "id": "02077528-c15c-4bfb-9958-de3617661a7b"
      },
      "outputs": [],
      "source": []
    },
    {
      "cell_type": "code",
      "execution_count": null,
      "id": "9b2bd4df-4a93-4ee1-8823-0ed55882b0aa",
      "metadata": {
        "id": "9b2bd4df-4a93-4ee1-8823-0ed55882b0aa"
      },
      "outputs": [],
      "source": []
    },
    {
      "cell_type": "markdown",
      "id": "343d0d7f-9c4e-4bef-8ae9-5a69ca734c56",
      "metadata": {
        "id": "343d0d7f-9c4e-4bef-8ae9-5a69ca734c56"
      },
      "source": [
        "## Initial Model Architecture"
      ]
    },
    {
      "cell_type": "code",
      "execution_count": null,
      "id": "838a981c-66ea-4a56-b348-0e884735ba48",
      "metadata": {
        "id": "838a981c-66ea-4a56-b348-0e884735ba48"
      },
      "outputs": [],
      "source": []
    },
    {
      "cell_type": "code",
      "execution_count": null,
      "id": "23f88a38-3d1b-4528-b2b7-8b7251ee06e2",
      "metadata": {
        "id": "23f88a38-3d1b-4528-b2b7-8b7251ee06e2"
      },
      "outputs": [],
      "source": []
    },
    {
      "cell_type": "markdown",
      "id": "a355e374-9820-4554-bc5d-299519ef0c95",
      "metadata": {
        "id": "a355e374-9820-4554-bc5d-299519ef0c95"
      },
      "source": [
        "## Compile and Training"
      ]
    },
    {
      "cell_type": "code",
      "execution_count": null,
      "id": "de960349-eb60-474f-8044-bdaba96913fd",
      "metadata": {
        "id": "de960349-eb60-474f-8044-bdaba96913fd"
      },
      "outputs": [],
      "source": []
    },
    {
      "cell_type": "code",
      "execution_count": null,
      "id": "dd4ee13a-fee2-4277-a7e5-5e806c2ed97b",
      "metadata": {
        "id": "dd4ee13a-fee2-4277-a7e5-5e806c2ed97b"
      },
      "outputs": [],
      "source": []
    },
    {
      "cell_type": "markdown",
      "id": "90102d97-ebf1-4a21-8c24-885afd6ca029",
      "metadata": {
        "id": "90102d97-ebf1-4a21-8c24-885afd6ca029"
      },
      "source": [
        "## Model Performance"
      ]
    },
    {
      "cell_type": "code",
      "execution_count": null,
      "id": "ba5aec7a-d64f-4769-80c7-76d079c6e521",
      "metadata": {
        "id": "ba5aec7a-d64f-4769-80c7-76d079c6e521"
      },
      "outputs": [],
      "source": []
    },
    {
      "cell_type": "code",
      "execution_count": null,
      "id": "ad35c862-4a81-4f86-a754-ab8dfea40461",
      "metadata": {
        "id": "ad35c862-4a81-4f86-a754-ab8dfea40461"
      },
      "outputs": [],
      "source": []
    },
    {
      "cell_type": "markdown",
      "id": "cca3b807-22b4-40a1-959c-6612c678e9c7",
      "metadata": {
        "id": "cca3b807-22b4-40a1-959c-6612c678e9c7"
      },
      "source": [
        "### Loss and MSE"
      ]
    },
    {
      "cell_type": "code",
      "execution_count": null,
      "id": "9bc902b4-4f7a-4835-8fd6-1a037b094fa2",
      "metadata": {
        "id": "9bc902b4-4f7a-4835-8fd6-1a037b094fa2"
      },
      "outputs": [],
      "source": []
    },
    {
      "cell_type": "code",
      "execution_count": null,
      "id": "ef34c8b5-f7e8-4c04-bb5d-20b04b5f78d6",
      "metadata": {
        "id": "ef34c8b5-f7e8-4c04-bb5d-20b04b5f78d6"
      },
      "outputs": [],
      "source": []
    },
    {
      "cell_type": "markdown",
      "id": "f4b6d745-7978-4140-9d12-ccb25178e312",
      "metadata": {
        "id": "f4b6d745-7978-4140-9d12-ccb25178e312"
      },
      "source": [
        "### $R^2$ Score"
      ]
    },
    {
      "cell_type": "code",
      "execution_count": null,
      "id": "eca117d0-ca2c-4f12-9d93-3dbf93fce0b2",
      "metadata": {
        "id": "eca117d0-ca2c-4f12-9d93-3dbf93fce0b2"
      },
      "outputs": [],
      "source": []
    },
    {
      "cell_type": "code",
      "execution_count": null,
      "id": "2ae9b8f4-bf12-4c87-ad03-57c04b352838",
      "metadata": {
        "id": "2ae9b8f4-bf12-4c87-ad03-57c04b352838"
      },
      "outputs": [],
      "source": []
    },
    {
      "cell_type": "markdown",
      "id": "81b817b3-f7b7-4196-8973-d7c04d191d22",
      "metadata": {
        "id": "81b817b3-f7b7-4196-8973-d7c04d191d22"
      },
      "source": [
        "# Multilayer Perceptron"
      ]
    },
    {
      "cell_type": "code",
      "execution_count": null,
      "id": "870c73eb-0c5a-49de-ac36-6268e1dc68eb",
      "metadata": {
        "id": "870c73eb-0c5a-49de-ac36-6268e1dc68eb"
      },
      "outputs": [],
      "source": []
    },
    {
      "cell_type": "code",
      "execution_count": null,
      "id": "f68cfcbf-90a4-4607-b3b8-3d2a8116e432",
      "metadata": {
        "id": "f68cfcbf-90a4-4607-b3b8-3d2a8116e432"
      },
      "outputs": [],
      "source": []
    },
    {
      "cell_type": "markdown",
      "id": "dd2ec5a4-a67c-4017-bd43-55c802190f9d",
      "metadata": {
        "id": "dd2ec5a4-a67c-4017-bd43-55c802190f9d"
      },
      "source": [
        "## Initial MLP"
      ]
    },
    {
      "cell_type": "code",
      "execution_count": null,
      "id": "17e2c2d7-7899-4d5e-87ab-985e014a30b3",
      "metadata": {
        "id": "17e2c2d7-7899-4d5e-87ab-985e014a30b3"
      },
      "outputs": [],
      "source": []
    },
    {
      "cell_type": "code",
      "execution_count": null,
      "id": "9c31f068-36e9-466d-ad94-e87cf2413b2f",
      "metadata": {
        "id": "9c31f068-36e9-466d-ad94-e87cf2413b2f"
      },
      "outputs": [],
      "source": []
    },
    {
      "cell_type": "markdown",
      "id": "85bd339c-5ace-4d66-92ce-02d942b03e0c",
      "metadata": {
        "id": "85bd339c-5ace-4d66-92ce-02d942b03e0c"
      },
      "source": [
        "## Optimization"
      ]
    },
    {
      "cell_type": "code",
      "execution_count": null,
      "id": "c5937c9c-b279-46d6-a2cd-ae4fc4740ce3",
      "metadata": {
        "id": "c5937c9c-b279-46d6-a2cd-ae4fc4740ce3"
      },
      "outputs": [],
      "source": []
    },
    {
      "cell_type": "code",
      "execution_count": null,
      "id": "788fc981-012c-4d7d-be9f-8e18102c3660",
      "metadata": {
        "id": "788fc981-012c-4d7d-be9f-8e18102c3660"
      },
      "outputs": [],
      "source": []
    },
    {
      "cell_type": "markdown",
      "id": "42e525ac-e21d-4d64-9952-fff6910d8df2",
      "metadata": {
        "id": "42e525ac-e21d-4d64-9952-fff6910d8df2"
      },
      "source": [
        "### Data scaling"
      ]
    },
    {
      "cell_type": "code",
      "execution_count": null,
      "id": "96ab8b38-bae7-470b-b6b8-b42326af7fef",
      "metadata": {
        "id": "96ab8b38-bae7-470b-b6b8-b42326af7fef"
      },
      "outputs": [],
      "source": []
    },
    {
      "cell_type": "code",
      "execution_count": null,
      "id": "b16872c7-f0d6-487a-87f7-364762270e07",
      "metadata": {
        "id": "b16872c7-f0d6-487a-87f7-364762270e07"
      },
      "outputs": [],
      "source": []
    },
    {
      "cell_type": "markdown",
      "id": "465f5085-da82-4c71-82c1-9a2f4cc624bc",
      "metadata": {
        "id": "465f5085-da82-4c71-82c1-9a2f4cc624bc"
      },
      "source": [
        "### Helpfull layers"
      ]
    },
    {
      "cell_type": "code",
      "execution_count": null,
      "id": "46536da8-0665-485a-8a9a-7015627318e6",
      "metadata": {
        "id": "46536da8-0665-485a-8a9a-7015627318e6"
      },
      "outputs": [],
      "source": []
    },
    {
      "cell_type": "code",
      "execution_count": null,
      "id": "38da779b-e31c-4e53-a89f-1091c5b1c6b1",
      "metadata": {
        "id": "38da779b-e31c-4e53-a89f-1091c5b1c6b1"
      },
      "outputs": [],
      "source": []
    },
    {
      "cell_type": "markdown",
      "id": "f730a7d0-7642-497b-9796-95bfbc3867d1",
      "metadata": {
        "id": "f730a7d0-7642-497b-9796-95bfbc3867d1"
      },
      "source": [
        "### Regularization"
      ]
    },
    {
      "cell_type": "code",
      "execution_count": null,
      "id": "45ea4d5b-1422-4175-8aa6-24de1ff5edc4",
      "metadata": {
        "id": "45ea4d5b-1422-4175-8aa6-24de1ff5edc4"
      },
      "outputs": [],
      "source": []
    },
    {
      "cell_type": "code",
      "execution_count": null,
      "id": "c5824370-15e9-4aff-ae0c-b1feb644be16",
      "metadata": {
        "id": "c5824370-15e9-4aff-ae0c-b1feb644be16"
      },
      "outputs": [],
      "source": []
    },
    {
      "cell_type": "markdown",
      "id": "a3b40e67-0689-4182-a3be-b086985143aa",
      "metadata": {
        "id": "a3b40e67-0689-4182-a3be-b086985143aa"
      },
      "source": [
        "### Epochs"
      ]
    },
    {
      "cell_type": "code",
      "execution_count": null,
      "id": "9b779f75-1553-42ca-8ac6-6141784bfdf1",
      "metadata": {
        "id": "9b779f75-1553-42ca-8ac6-6141784bfdf1"
      },
      "outputs": [],
      "source": []
    },
    {
      "cell_type": "code",
      "execution_count": null,
      "id": "f24315a0-89aa-4a09-9270-9aaead2293e9",
      "metadata": {
        "id": "f24315a0-89aa-4a09-9270-9aaead2293e9"
      },
      "outputs": [],
      "source": []
    },
    {
      "cell_type": "markdown",
      "id": "2d02ffb7-8436-4cc8-a54d-56277d3faeed",
      "metadata": {
        "id": "2d02ffb7-8436-4cc8-a54d-56277d3faeed"
      },
      "source": [
        "# Conclusion"
      ]
    },
    {
      "cell_type": "markdown",
      "id": "cf3da14f-d4e9-4ae7-b383-98552babd9b9",
      "metadata": {
        "id": "cf3da14f-d4e9-4ae7-b383-98552babd9b9"
      },
      "source": []
    }
  ],
  "metadata": {
    "kernelspec": {
      "display_name": "Python 3 (ipykernel)",
      "language": "python",
      "name": "python3"
    },
    "language_info": {
      "codemirror_mode": {
        "name": "ipython",
        "version": 3
      },
      "file_extension": ".py",
      "mimetype": "text/x-python",
      "name": "python",
      "nbconvert_exporter": "python",
      "pygments_lexer": "ipython3",
      "version": "3.10.8"
    },
    "colab": {
      "provenance": []
    }
  },
  "nbformat": 4,
  "nbformat_minor": 5
}